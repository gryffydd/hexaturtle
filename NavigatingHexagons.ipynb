{
 "cells": [
  {
   "cell_type": "markdown",
   "metadata": {},
   "source": [
    "#  Constructing an Hexagon Map for a Sphere\n",
    "\n",
    "Square maps are great for tabletop games, but what about hexagons?\n",
    "\n",
    "Hexagons are often used to simulate a space where things are more equally spaced in every direction, but these are not easy to represent in a computer array.  Not easy, but possible.\n",
    "\n",
    "The second thing about hexagons is that you can use them to map a space onto a sphere, like a football with a mix of hexagons and 12 pentagons.  The football has 20 hexagons and 12 pentagons, but if you use more hexagons, you will always have 12 pentagons like the points on a 20 sided dice (Icosahedron - https://en.wikipedia.org/wiki/Icosahedron)"
   ]
  },
  {
   "cell_type": "code",
   "execution_count": null,
   "metadata": {},
   "outputs": [],
   "source": [
    "from copy import copy\n",
    "%matplotlib inline"
   ]
  },
  {
   "cell_type": "markdown",
   "metadata": {},
   "source": [
    "##### Import Local Functions"
   ]
  },
  {
   "cell_type": "code",
   "execution_count": null,
   "metadata": {},
   "outputs": [],
   "source": [
    "from turtle import Turtle\n",
    "from hex_map import world_map, local_map, empty_map, full_map\n",
    "from hex_map_construct import perimeter, fill_centre, set_virtual, STEPS\n",
    "from hex_map_construct import EMPTY, COMMON, POLE, PENTAGON, VIRTUAL, EDGE, VERBOTEN, WRAP"
   ]
  },
  {
   "cell_type": "markdown",
   "metadata": {},
   "source": [
    "### How do these hexagons map to a sphere\n",
    "The blue hexagons are mapped to the hexagons on a football.  The green hexagons are in fact pentagons, so the edge attached to a yellow hexagon does not exist in reality,  The purple hexagons are the same location on the sphere, but are also in fact the pentagons on the football.  They are equivalent to the green hexagons.  The aqua hexagons are the \"poles\" of the sphere and therefore equivalent and also pentagons.  The red hexagons are not accessible.  The yellow hexagons should be mapped to another hexagon in the map."
   ]
  },
  {
   "cell_type": "markdown",
   "metadata": {},
   "source": [
    "### Expanding the map\n",
    "It seems that we can build a map by drawing a perimeter, then filling in the middle"
   ]
  },
  {
   "cell_type": "markdown",
   "metadata": {},
   "source": [
    "##### Initalise the World"
   ]
  },
  {
   "cell_type": "code",
   "execution_count": null,
   "metadata": {},
   "outputs": [],
   "source": [
    "world = empty_map(STEPS * 12)\n",
    "turtle = Turtle(world)\n",
    "turtle.place(2, (STEPS + 1) * 6)"
   ]
  },
  {
   "cell_type": "markdown",
   "metadata": {},
   "source": [
    "##### Draw the perimeter with the turtle"
   ]
  },
  {
   "cell_type": "code",
   "execution_count": null,
   "metadata": {},
   "outputs": [],
   "source": [
    "perimeter(turtle)\n",
    "world_map(world)"
   ]
  },
  {
   "cell_type": "markdown",
   "metadata": {},
   "source": [
    "##### Fill the middle with blues"
   ]
  },
  {
   "cell_type": "code",
   "execution_count": null,
   "metadata": {},
   "outputs": [],
   "source": [
    "fill_centre(world)\n",
    "world_map(world)"
   ]
  },
  {
   "cell_type": "markdown",
   "metadata": {},
   "source": [
    "##### Add the virtual hexagons around the outside"
   ]
  },
  {
   "cell_type": "code",
   "execution_count": null,
   "metadata": {},
   "outputs": [],
   "source": [
    "set_virtual(world)\n",
    "world_map(world)"
   ]
  },
  {
   "cell_type": "markdown",
   "metadata": {},
   "source": [
    "### Navigating the map\n",
    "The solution to navigating the map is to create a virtual turtle and head out to find a valid tile to land on and a valid direction to point.  There is also the consideration of tiles that have two or more logical tiles, but only one physical tile.  "
   ]
  },
  {
   "cell_type": "code",
   "execution_count": null,
   "metadata": {},
   "outputs": [],
   "source": [
    "def move(turtle):\n",
    "    if turtle.state(COMMON):\n",
    "        print(\"COMMON\")\n",
    "    if turtle.state(POLE):\n",
    "        print(\"POLE\")\n",
    "    if turtle.state(PENTAGON):\n",
    "        print(\"PENTAGON\")\n",
    "    if turtle.state(EDGE):\n",
    "        print(\"EDGE\")\n",
    "    if turtle.state(WRAP):\n",
    "        print(\"WRAP\")\n",
    "        turtle = from_wrap(turtle)\n",
    "    return turtle"
   ]
  },
  {
   "cell_type": "code",
   "execution_count": null,
   "metadata": {},
   "outputs": [],
   "source": [
    "def from_wrap(turtle):\n",
    "    newt = copy(turtle)\n",
    "    newt.move()\n",
    "    if newt.state(COMMON):\n",
    "        print(\"COMMON\")\n",
    "        turtle = copy(newt)\n",
    "    else:\n",
    "        print(\"Not COMMON\")\n",
    "        vurtle = copy(turtle)\n",
    "        for x in range(turtle.x, len(turtle.bitmap[0]), 2):\n",
    "            if turtle.bitmap[x, turtle.y] == WRAP:\n",
    "                vurtle.x = x\n",
    "        newt = copy(vurtle)\n",
    "        newt.move()\n",
    "        if newt.state(COMMON):\n",
    "            print(\"Virtual COMMON\")\n",
    "            turtle = copy(newt)\n",
    "        else:\n",
    "            print(\"Virtual Not COMMON\")\n",
    "            newt = copy(turtle)\n",
    "            newt.left()\n",
    "            newt.move()\n",
    "            if newt.state(COMMON):\n",
    "                print(\"Left COMMON\")\n",
    "                turtle = copy(newt)\n",
    "            else:\n",
    "                print(\"Not Left COMMON\")\n",
    "                newt = copy(vurtle)\n",
    "                newt.left()\n",
    "                newt.move()\n",
    "                if newt.state(COMMON):\n",
    "                    print(\"Virtual Left COMMON\")\n",
    "                    turtle = copy(newt)\n",
    "                else:\n",
    "                    print(\"Should Not Happen\")\n",
    "                    raise Exception\n",
    "    return turtle            "
   ]
  },
  {
   "cell_type": "markdown",
   "metadata": {},
   "source": [
    "##### Test the movement from the northern pentagon WRAP tile"
   ]
  },
  {
   "cell_type": "code",
   "execution_count": null,
   "metadata": {},
   "outputs": [],
   "source": [
    "turtle.place(2, 36, 0)\n",
    "local_map(turtle)\n",
    "turtle = move(turtle)\n",
    "local_map(turtle)"
   ]
  },
  {
   "cell_type": "code",
   "execution_count": null,
   "metadata": {},
   "outputs": [],
   "source": [
    "turtle.place(2, 36, 1)\n",
    "local_map(turtle)\n",
    "turtle = move(turtle)\n",
    "local_map(turtle)"
   ]
  },
  {
   "cell_type": "code",
   "execution_count": null,
   "metadata": {},
   "outputs": [],
   "source": [
    "turtle.place(2, 36, 2)\n",
    "local_map(turtle)\n",
    "turtle = move(turtle)\n",
    "local_map(turtle)"
   ]
  },
  {
   "cell_type": "code",
   "execution_count": null,
   "metadata": {},
   "outputs": [],
   "source": [
    "turtle.place(2, 36, 3)\n",
    "local_map(turtle)\n",
    "turtle = move(turtle)\n",
    "local_map(turtle)"
   ]
  },
  {
   "cell_type": "code",
   "execution_count": null,
   "metadata": {},
   "outputs": [],
   "source": [
    "turtle.place(2, 36, 4)\n",
    "local_map(turtle)\n",
    "turtle = move(turtle)\n",
    "local_map(turtle)"
   ]
  },
  {
   "cell_type": "code",
   "execution_count": null,
   "metadata": {},
   "outputs": [],
   "source": [
    "turtle.place(2, 36, 5)\n",
    "local_map(turtle)\n",
    "turtle = move(turtle)\n",
    "local_map(turtle)"
   ]
  },
  {
   "cell_type": "markdown",
   "metadata": {},
   "source": [
    "##### Test the movement from the normal WRAP tile"
   ]
  },
  {
   "cell_type": "code",
   "execution_count": null,
   "metadata": {},
   "outputs": [],
   "source": [
    "turtle.place(3, 33, 0)\n",
    "local_map(turtle)\n",
    "turtle = move(turtle)\n",
    "local_map(turtle)"
   ]
  },
  {
   "cell_type": "code",
   "execution_count": null,
   "metadata": {},
   "outputs": [],
   "source": [
    "turtle.place(3, 33, 1)\n",
    "local_map(turtle)\n",
    "turtle = move(turtle)\n",
    "local_map(turtle)"
   ]
  },
  {
   "cell_type": "code",
   "execution_count": null,
   "metadata": {},
   "outputs": [],
   "source": [
    "turtle.place(3, 33, 2)\n",
    "local_map(turtle)\n",
    "turtle = move(turtle)\n",
    "local_map(turtle)"
   ]
  },
  {
   "cell_type": "code",
   "execution_count": null,
   "metadata": {},
   "outputs": [],
   "source": [
    "turtle.place(3, 33, 3)\n",
    "local_map(turtle)\n",
    "turtle = move(turtle)\n",
    "local_map(turtle)"
   ]
  },
  {
   "cell_type": "code",
   "execution_count": null,
   "metadata": {},
   "outputs": [],
   "source": [
    "turtle.place(3, 33, 4)\n",
    "local_map(turtle)\n",
    "turtle = move(turtle)\n",
    "local_map(turtle)"
   ]
  },
  {
   "cell_type": "code",
   "execution_count": null,
   "metadata": {},
   "outputs": [],
   "source": [
    "turtle.place(3, 33, 5)\n",
    "local_map(turtle)\n",
    "turtle = move(turtle)\n",
    "local_map(turtle)"
   ]
  },
  {
   "cell_type": "markdown",
   "metadata": {},
   "source": [
    "##### Test the movement from the northern pentagon WRAP tile"
   ]
  },
  {
   "cell_type": "code",
   "execution_count": null,
   "metadata": {},
   "outputs": [],
   "source": [
    "turtle.place(7, 21, 0)\n",
    "local_map(turtle)\n",
    "turtle = move(turtle)\n",
    "local_map(turtle)"
   ]
  },
  {
   "cell_type": "code",
   "execution_count": null,
   "metadata": {},
   "outputs": [],
   "source": [
    "turtle.place(7, 21, 1)\n",
    "local_map(turtle)\n",
    "turtle = move(turtle)\n",
    "local_map(turtle)"
   ]
  },
  {
   "cell_type": "code",
   "execution_count": null,
   "metadata": {},
   "outputs": [],
   "source": [
    "turtle.place(7, 21, 2)\n",
    "local_map(turtle)\n",
    "turtle = move(turtle)\n",
    "local_map(turtle)"
   ]
  },
  {
   "cell_type": "code",
   "execution_count": null,
   "metadata": {},
   "outputs": [],
   "source": [
    "turtle.place(7, 21, 3)\n",
    "local_map(turtle)\n",
    "turtle = move(turtle)\n",
    "local_map(turtle)"
   ]
  },
  {
   "cell_type": "code",
   "execution_count": null,
   "metadata": {},
   "outputs": [],
   "source": [
    "turtle.place(7, 21, 4)\n",
    "local_map(turtle)\n",
    "turtle = move(turtle)\n",
    "local_map(turtle)"
   ]
  },
  {
   "cell_type": "code",
   "execution_count": null,
   "metadata": {},
   "outputs": [],
   "source": [
    "turtle.place(7, 21, 5)\n",
    "local_map(turtle)\n",
    "turtle = move(turtle)\n",
    "local_map(turtle)"
   ]
  },
  {
   "cell_type": "code",
   "execution_count": null,
   "metadata": {},
   "outputs": [],
   "source": []
  }
 ],
 "metadata": {
  "kernelspec": {
   "display_name": "Python 3",
   "language": "python",
   "name": "python3"
  },
  "language_info": {
   "codemirror_mode": {
    "name": "ipython",
    "version": 3
   },
   "file_extension": ".py",
   "mimetype": "text/x-python",
   "name": "python",
   "nbconvert_exporter": "python",
   "pygments_lexer": "ipython3",
   "version": "3.8.3"
  }
 },
 "nbformat": 4,
 "nbformat_minor": 4
}
