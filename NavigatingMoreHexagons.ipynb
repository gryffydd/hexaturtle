{
 "cells": [
  {
   "cell_type": "markdown",
   "metadata": {},
   "source": [
    "#  Constructing an Hexagon Map for a Sphere\n",
    "\n",
    "Square maps are great for tabletop games, but what about hexagons?\n",
    "\n",
    "Hexagons are often used to simulate a space where things are more equally spaced in every direction, but these are not easy to represent in a computer array.  Not easy, but possible.\n",
    "\n",
    "The second thing about hexagons is that you can use them to map a space onto a sphere, like a football with a mix of hexagons and 12 pentagons.  The football has 20 hexagons and 12 pentagons, but if you use more hexagons, you will always have 12 pentagons like the points on a 20 sided dice (Icosahedron - https://en.wikipedia.org/wiki/Icosahedron)"
   ]
  },
  {
   "cell_type": "code",
   "execution_count": null,
   "metadata": {},
   "outputs": [],
   "source": [
    "from copy import copy\n",
    "%matplotlib inline"
   ]
  },
  {
   "cell_type": "markdown",
   "metadata": {},
   "source": [
    "##### Import Local Functions"
   ]
  },
  {
   "cell_type": "code",
   "execution_count": null,
   "metadata": {},
   "outputs": [],
   "source": [
    "from hex_map import world_map, local_map\n",
    "from hex_map_navigate import build_the_world\n",
    "from hex_map_construct import EMPTY, COMMON, POLE, PENTAGON, VIRTUAL, EDGE, VERBOTEN, WRAP"
   ]
  },
  {
   "cell_type": "markdown",
   "metadata": {},
   "source": [
    "### How do these hexagons map to a sphere\n",
    "The blue hexagons are mapped to the hexagons on a football.  The green hexagons are in fact pentagons, so the edge attached to a yellow hexagon does not exist in reality,  The purple hexagons are the same location on the sphere, but are also in fact the pentagons on the football.  They are equivalent to the green hexagons.  The aqua hexagons are the \"poles\" of the sphere and therefore equivalent and also pentagons.  The red hexagons are not accessible.  The yellow hexagons should be mapped to another hexagon in the map."
   ]
  },
  {
   "cell_type": "markdown",
   "metadata": {},
   "source": [
    "##### Initalise the World"
   ]
  },
  {
   "cell_type": "code",
   "execution_count": null,
   "metadata": {},
   "outputs": [],
   "source": [
    "turtle = build_the_world()\n",
    "world_map(turtle.bitmap)"
   ]
  },
  {
   "cell_type": "markdown",
   "metadata": {},
   "source": [
    "### Navigating the map\n",
    "The solution to navigating the map is to create a virtual turtle and head out to find a valid tile to land on and a valid direction to point.  There is also the consideration of tiles that have two or more logical tiles, but only one physical tile.  "
   ]
  },
  {
   "cell_type": "code",
   "execution_count": null,
   "metadata": {},
   "outputs": [],
   "source": [
    "from hex_map_navigate import from_wrap\n",
    "\n",
    "def move(turtle):\n",
    "    if turtle.state(COMMON):\n",
    "        print(\"COMMON\")\n",
    "        turtle = from_common(turtle)\n",
    "    if turtle.state(POLE):\n",
    "        print(\"POLE\")\n",
    "    if turtle.state(PENTAGON):\n",
    "        print(\"PENTAGON\")\n",
    "    if turtle.state(EDGE):\n",
    "        print(\"EDGE\")\n",
    "    if turtle.state(WRAP):\n",
    "        print(\"WRAP\")\n",
    "        turtle = from_wrap(turtle)\n",
    "    return turtle"
   ]
  },
  {
   "cell_type": "markdown",
   "metadata": {},
   "source": [
    "##### Testing the movement from the WRAP tile\n",
    "This has been been done, but can probably be improved with a test harness"
   ]
  },
  {
   "cell_type": "markdown",
   "metadata": {},
   "source": [
    "##### Testing the movement from the COMMON tile\n",
    "Moving from COMMON to COMMON is very simple, but all other translations are difficult...\n",
    "\n",
    "The most difficult translation is COMMON to VIRTUAL as we have to determine what kind of VIRTUAL this might be."
   ]
  },
  {
   "cell_type": "code",
   "execution_count": null,
   "metadata": {},
   "outputs": [],
   "source": [
    "def from_common(turtle):\n",
    "    \"\"\"Move the turtle from the COMMON node.\"\"\"\n",
    "    if turtle.is_next(COMMON):\n",
    "        print(\"COMMON\")\n",
    "        turtle.move()\n",
    "    elif turtle.is_next(POLE):\n",
    "        print(\"POLE\")\n",
    "        turtle = from_common_to_pole(turtle)\n",
    "    elif turtle.is_next(PENTAGON):\n",
    "        print(\"PENTAGON\")\n",
    "        turtle = from_common_to_pentagon(turtle)\n",
    "    elif turtle.is_next(VIRTUAL):\n",
    "        print(\"VIRTUAL\")\n",
    "        turtle = from_common_to_virtual(turtle)\n",
    "    elif turtle.is_next(EDGE):\n",
    "        print(\"EDGE\")\n",
    "        turtle = from_common_to_edge(turtle)\n",
    "    elif turtle.is_next(WRAP):\n",
    "        print(\"WRAP\")\n",
    "        turtle = from_common_to_wrap(turtle)\n",
    "    else:\n",
    "        print(f\"The turtle is {turtle}\")\n",
    "    return turtle"
   ]
  },
  {
   "cell_type": "code",
   "execution_count": null,
   "metadata": {},
   "outputs": [],
   "source": [
    "from hex_map_construct import STEPS\n",
    "\n",
    "def from_common_to_pole(turtle):\n",
    "    turtle.move()\n",
    "    if turtle.is_north():\n",
    "        poles = range(turtle.x, 0, STEPS * -2)\n",
    "    else:\n",
    "        poles = range(turtle.x, turtle.bitmap.shape[0], STEPS * 2)\n",
    "    for x in poles:\n",
    "        if turtle.bitmap[x, turtle.y] == POLE:\n",
    "            print(f\"Translate from turtle.x={turtle.x} to x={x} and Turn Left\")\n",
    "            turtle.x = x\n",
    "            turtle.left()\n",
    "    return turtle"
   ]
  },
  {
   "cell_type": "code",
   "execution_count": null,
   "metadata": {},
   "outputs": [],
   "source": [
    "def from_common_to_pentagon(turtle):\n",
    "    turtle.move()\n",
    "    if not turtle.is_next(COMMON):\n",
    "        print(\"Next Cell is Not COMMON - Turn Left\")\n",
    "        turtle.left()\n",
    "    return turtle"
   ]
  },
  {
   "cell_type": "code",
   "execution_count": null,
   "metadata": {},
   "outputs": [],
   "source": [
    "def from_common_to_virtual(turtle):\n",
    "    turtle.move()\n",
    "    if turtle.is_adjacent(EDGE):\n",
    "        if turtle.is_adjacent(WRAP):\n",
    "            print(\"Wrap, Rotate and Advance\")\n",
    "        if turtle.is_adjacent(PENTAGON):\n",
    "            print(\"Rotate and Advance\")\n",
    "        else:\n",
    "            print(\"Rotate, Translate and Advance\")\n",
    "    else:\n",
    "        if turtle.is_east():\n",
    "            print(\"Wrap\")\n",
    "    return turtle"
   ]
  },
  {
   "cell_type": "code",
   "execution_count": null,
   "metadata": {},
   "outputs": [],
   "source": [
    "def from_common_to_edge(turtle):\n",
    "    turtle.move()\n",
    "    return turtle"
   ]
  },
  {
   "cell_type": "code",
   "execution_count": null,
   "metadata": {},
   "outputs": [],
   "source": [
    "def from_common_to_wrap(turtle):\n",
    "    turtle.move()\n",
    "    return turtle"
   ]
  },
  {
   "cell_type": "markdown",
   "metadata": {},
   "source": [
    "##### A test for the turtle\n",
    "Place the turtle, show it, move it and see where it went."
   ]
  },
  {
   "cell_type": "code",
   "execution_count": null,
   "metadata": {},
   "outputs": [],
   "source": [
    "def test_starts(turtle, starts, horizon=4):\n",
    "    for x, y, f in starts:\n",
    "        turtle.place(x, y, f)\n",
    "        print(turtle)\n",
    "        local_map(turtle, horizon=horizon)\n",
    "        turtle = move(turtle)\n",
    "        print(turtle)\n",
    "        local_map(turtle, horizon=horizon)"
   ]
  },
  {
   "cell_type": "markdown",
   "metadata": {},
   "source": [
    "###### COMMON to COMMON\n",
    "Pretty simple..."
   ]
  },
  {
   "cell_type": "code",
   "execution_count": null,
   "metadata": {},
   "outputs": [],
   "source": [
    "test_starts(turtle, [(3, 37, 1)])"
   ]
  },
  {
   "cell_type": "markdown",
   "metadata": {},
   "source": [
    "###### COMMON to POLE\n",
    "Not as simple...  Involves translations and rotations."
   ]
  },
  {
   "cell_type": "code",
   "execution_count": null,
   "metadata": {},
   "outputs": [],
   "source": [
    "test_starts(turtle, [(x, 49, 0) for x in range(7, 7 + STEPS * 2 * 5, STEPS * 2)], horizon=12)"
   ]
  },
  {
   "cell_type": "code",
   "execution_count": null,
   "metadata": {},
   "outputs": [],
   "source": [
    "test_starts(turtle, [(x, 8, 3) for x in range(12, 12 + STEPS * 2 * 5, STEPS * 2)], horizon=12)"
   ]
  },
  {
   "cell_type": "markdown",
   "metadata": {},
   "source": [
    "###### COMMON to PENTAGON\n",
    "Middling simplicity...  Involves conditional rotations."
   ]
  },
  {
   "cell_type": "code",
   "execution_count": null,
   "metadata": {},
   "outputs": [],
   "source": [
    "test_starts(turtle, [(11, 37, 2), (11, 35, 1), (12, 34, 0), (13, 35, 5), (13, 37, 4)])"
   ]
  },
  {
   "cell_type": "code",
   "execution_count": null,
   "metadata": {},
   "outputs": [],
   "source": [
    "test_starts(turtle, [(16, 20, 1), (16, 22, 2), (17, 23, 3), (18, 22, 4), (18, 20, 5)])"
   ]
  },
  {
   "cell_type": "markdown",
   "metadata": {},
   "source": [
    "###### COMMON to VIRTUAL\n",
    "Complex...  Involves North, South and Equator conditional translations and possible rotations."
   ]
  },
  {
   "cell_type": "code",
   "execution_count": null,
   "metadata": {},
   "outputs": [],
   "source": [
    "test_starts(turtle, [(7, 49, 5), (5, 43, 5), (3, 37, 5), (3, 35, 4), (5, 29, 4), (7, 23, 4), (8, 20, 4)])"
   ]
  },
  {
   "cell_type": "code",
   "execution_count": null,
   "metadata": {},
   "outputs": [],
   "source": [
    "test_starts(turtle, [(47, 49, 1), (49, 43, 1), (51, 37, 1), (53, 31, 1), (55, 25, 1), (56, 22, 1), (56, 20, 2)])"
   ]
  },
  {
   "cell_type": "markdown",
   "metadata": {},
   "source": [
    "###### COMMON to EDGE\n",
    "Not simple...  Involves conditional translations and rotations."
   ]
  },
  {
   "cell_type": "code",
   "execution_count": null,
   "metadata": {},
   "outputs": [],
   "source": [
    "test_starts(turtle, [(3, 37, 0), (11, 37, 0), (13, 37, 0)])"
   ]
  }
 ],
 "metadata": {
  "kernelspec": {
   "display_name": "Python 3",
   "language": "python",
   "name": "python3"
  },
  "language_info": {
   "codemirror_mode": {
    "name": "ipython",
    "version": 3
   },
   "file_extension": ".py",
   "mimetype": "text/x-python",
   "name": "python",
   "nbconvert_exporter": "python",
   "pygments_lexer": "ipython3",
   "version": "3.8.3"
  }
 },
 "nbformat": 4,
 "nbformat_minor": 4
}
