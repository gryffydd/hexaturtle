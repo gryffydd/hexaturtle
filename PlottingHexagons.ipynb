{
 "cells": [
  {
   "cell_type": "markdown",
   "metadata": {},
   "source": [
    "# Mapping Hexagons on a Sphere\n",
    "\n",
    "Square maps are great for tabletop games, but what about hexagons?\n",
    "\n",
    "Hexagons are often used to simulate a space where things are more equally spaced in every direction, but these are not easy to represent in a computer array.  Not easy, but possible.\n",
    "\n",
    "The second thing about hexagons is that you can use them to map a space onto a sphere, like a football with a mix of hexagons and 12 pentagons.  The football has 20 hexagons and 12 pentagons, but if you use more hexagons, you will always have 12 pentagons like the points on a 20 sided dice (Icosahedron - https://en.wikipedia.org/wiki/Icosahedron)"
   ]
  },
  {
   "cell_type": "code",
   "execution_count": null,
   "metadata": {},
   "outputs": [],
   "source": [
    "import numpy as np\n",
    "import matplotlib.pyplot as plt\n",
    "from matplotlib.patches import Polygon"
   ]
  },
  {
   "cell_type": "code",
   "execution_count": null,
   "metadata": {},
   "outputs": [],
   "source": [
    "%matplotlib inline"
   ]
  },
  {
   "cell_type": "markdown",
   "metadata": {},
   "source": [
    "##### Functions"
   ]
  },
  {
   "cell_type": "code",
   "execution_count": null,
   "metadata": {},
   "outputs": [],
   "source": [
    "def thetas(sides=6):\n",
    "    return [x / sides * 2 * np.pi for x in range(sides)]\n",
    "\n",
    "def hexagon(x, y, r=1/np.sqrt(3)):\n",
    "    points = [[np.cos(t) * r + x, np.sin(t) * r + y] for t in thetas()]\n",
    "    return Polygon(np.array(points))\n",
    "\n",
    "def hexcolor(hex_type):\n",
    "    colors = [\"white\", \"blue\", \"cyan\", \"green\", \"yellow\", \"orange\", \"red\", \"purple\"]\n",
    "    return colors[hex_type % len(colors)]"
   ]
  },
  {
   "cell_type": "markdown",
   "metadata": {},
   "source": [
    "##### Draw a plot of the hexagon map"
   ]
  },
  {
   "cell_type": "code",
   "execution_count": null,
   "metadata": {},
   "outputs": [],
   "source": [
    "def add_hexes(ax, bitmap):\n",
    "    x_scale = np.sqrt(3) / 2\n",
    "    y_scale = 1 / 2\n",
    "    x_len = bitmap.shape[0]\n",
    "    y_len = bitmap.shape[1]\n",
    "    for x in range(x_len):\n",
    "        for y in range(y_len):\n",
    "            if bitmap[x, y] > 0:\n",
    "                h = hexagon(x * x_scale, y * y_scale)\n",
    "                h.set_facecolor(hexcolor(bitmap[x, y]))\n",
    "                h.set_edgecolor(\"black\")\n",
    "                h.set_alpha(0.4)\n",
    "                ax.add_patch(h)\n",
    "    ax.set_xlim(xmax=(x_len*x_scale))\n",
    "    ax.set_ylim(ymax=(y_len*y_scale))\n",
    "    \n",
    "def plot_map(bitmap):\n",
    "    fig, ax = plt.subplots()\n",
    "    add_hexes(ax, bitmap)\n",
    "    plt.show()"
   ]
  },
  {
   "cell_type": "markdown",
   "metadata": {},
   "source": [
    "##### Prepare the map data functions"
   ]
  },
  {
   "cell_type": "code",
   "execution_count": null,
   "metadata": {},
   "outputs": [],
   "source": [
    "def empty_map(size=21):\n",
    "    return np.zeros((size, size), dtype=np.int8)\n",
    "    \n",
    "def full_map(size=21, hex_type=1):\n",
    "    bitmap = empty_map(size=size)\n",
    "    for x in range(1,size - 1):\n",
    "        for y in range(1,size - 1):\n",
    "            if (x + y) % 2 == 0:\n",
    "                bitmap[x, y] = hex_type\n",
    "    return bitmap"
   ]
  },
  {
   "cell_type": "markdown",
   "metadata": {},
   "source": [
    "###### Show the map"
   ]
  },
  {
   "cell_type": "code",
   "execution_count": null,
   "metadata": {},
   "outputs": [],
   "source": [
    "bitmap = full_map()\n",
    "plot_map(bitmap)"
   ]
  },
  {
   "cell_type": "code",
   "execution_count": null,
   "metadata": {},
   "outputs": [],
   "source": [
    "print(bitmap)"
   ]
  },
  {
   "cell_type": "markdown",
   "metadata": {},
   "source": [
    "### Make the hexagonal map that can be wrapped on a sphere (football)"
   ]
  },
  {
   "cell_type": "markdown",
   "metadata": {},
   "source": [
    "##### The Turtle class that can navigate the bitmap"
   ]
  },
  {
   "cell_type": "code",
   "execution_count": null,
   "metadata": {},
   "outputs": [],
   "source": [
    "class Turtle:\n",
    "    x = 0\n",
    "    y = 0\n",
    "    bitmap = None\n",
    "    facing = 0\n",
    "    vectors = [[0,2],[1,1],[1,-1],[0,-2],[-1,-1],[-1,1]]\n",
    "    def __init__(self, bitmap):\n",
    "        self.bitmap = bitmap\n",
    "\n",
    "    def __repr__(self):\n",
    "        return f\"X: {self.x} - Y: {self.y} - F: {self.facing}\"\n",
    "        \n",
    "    def place(self, x, y, facing=0):\n",
    "        self.x = x\n",
    "        self.y = y\n",
    "        self.facing = facing\n",
    "\n",
    "    def left(self, turns=1):\n",
    "        for t in range(turns):\n",
    "            self.facing = (self.facing + len(self.vectors) - 1) % len(self.vectors)\n",
    "\n",
    "    def right(self, turns=1):\n",
    "        for t in range(turns):\n",
    "            self.facing = (self.facing + 1) % len(self.vectors)\n",
    "\n",
    "    def move(self):\n",
    "        self.x += self.vectors[self.facing][0]\n",
    "        self.y += self.vectors[self.facing][1]\n",
    "\n",
    "    def set_value(self, value):\n",
    "        self.bitmap[self.x, self.y] = value"
   ]
  },
  {
   "cell_type": "markdown",
   "metadata": {},
   "source": [
    "##### Initialise an empty map and start a turtle"
   ]
  },
  {
   "cell_type": "code",
   "execution_count": null,
   "metadata": {},
   "outputs": [],
   "source": [
    "bitmap = empty_map()\n",
    "turtle = Turtle(bitmap)"
   ]
  },
  {
   "cell_type": "markdown",
   "metadata": {},
   "source": [
    "##### Start in the West and colour the Northern hemisphere hexagons"
   ]
  },
  {
   "cell_type": "code",
   "execution_count": null,
   "metadata": {},
   "outputs": [],
   "source": [
    "turtle.place(4, 12)\n",
    "turtle.set_value(7)\n",
    "turtle.right()\n",
    "for x in range(5):\n",
    "    turtle.move()\n",
    "    turtle.set_value(1)\n",
    "    turtle.left()\n",
    "    turtle.move()\n",
    "    turtle.set_value(2)\n",
    "    turtle.move()\n",
    "    turtle.set_value(6)\n",
    "    turtle.right(2)\n",
    "    turtle.move()\n",
    "    turtle.set_value(4)\n",
    "    turtle.right()\n",
    "    turtle.move()\n",
    "    turtle.set_value(4)\n",
    "    turtle.move()\n",
    "    turtle.set_value(3)\n",
    "    turtle.left(2)\n",
    "turtle.set_value(7)"
   ]
  },
  {
   "cell_type": "code",
   "execution_count": null,
   "metadata": {},
   "outputs": [],
   "source": [
    "plot_map(bitmap)"
   ]
  },
  {
   "cell_type": "markdown",
   "metadata": {},
   "source": [
    "##### Move down to the equator"
   ]
  },
  {
   "cell_type": "code",
   "execution_count": null,
   "metadata": {},
   "outputs": [],
   "source": [
    "turtle.move()\n",
    "turtle.set_value(4)\n",
    "turtle.right(2)\n",
    "turtle.move()\n",
    "turtle.set_value(4)\n",
    "turtle.right()"
   ]
  },
  {
   "cell_type": "code",
   "execution_count": null,
   "metadata": {},
   "outputs": [],
   "source": [
    "plot_map(bitmap)"
   ]
  },
  {
   "cell_type": "markdown",
   "metadata": {},
   "source": [
    "##### Traverse the equator"
   ]
  },
  {
   "cell_type": "code",
   "execution_count": null,
   "metadata": {},
   "outputs": [],
   "source": [
    "turtle.move()\n",
    "turtle.set_value(1)\n",
    "turtle.right()\n",
    "turtle.move()\n",
    "turtle.set_value(1)\n",
    "turtle.left()\n",
    "for x in range(4):\n",
    "    turtle.move()\n",
    "    turtle.set_value(1)\n",
    "    turtle.right()\n",
    "    turtle.move()\n",
    "    turtle.set_value(1)\n",
    "    turtle.left()\n",
    "turtle.left()\n",
    "turtle.move()\n",
    "turtle.set_value(7)\n",
    "turtle.left()"
   ]
  },
  {
   "cell_type": "code",
   "execution_count": null,
   "metadata": {},
   "outputs": [],
   "source": [
    "plot_map(bitmap)"
   ]
  },
  {
   "cell_type": "markdown",
   "metadata": {},
   "source": [
    "##### colour the Southern hemisphere hexagons"
   ]
  },
  {
   "cell_type": "code",
   "execution_count": null,
   "metadata": {},
   "outputs": [],
   "source": [
    "for x in range(5):\n",
    "    turtle.move()\n",
    "    turtle.set_value(1)\n",
    "    turtle.right()\n",
    "    turtle.move()\n",
    "    turtle.set_value(2)\n",
    "    turtle.move()\n",
    "    turtle.set_value(6)\n",
    "    turtle.left(2)\n",
    "    turtle.move()\n",
    "    turtle.set_value(4)\n",
    "    turtle.left()\n",
    "    turtle.move()\n",
    "    turtle.set_value(4)\n",
    "    turtle.move()\n",
    "    turtle.set_value(3)\n",
    "    turtle.right(2)\n",
    "turtle.set_value(7)"
   ]
  },
  {
   "cell_type": "code",
   "execution_count": null,
   "metadata": {},
   "outputs": [],
   "source": [
    "plot_map(bitmap)"
   ]
  },
  {
   "cell_type": "markdown",
   "metadata": {},
   "source": [
    "##### Do the remaining edge colours"
   ]
  },
  {
   "cell_type": "code",
   "execution_count": null,
   "metadata": {},
   "outputs": [],
   "source": [
    "turtle.move()\n",
    "turtle.set_value(4)\n",
    "turtle.left(2)\n",
    "turtle.move()\n",
    "turtle.set_value(4)"
   ]
  },
  {
   "cell_type": "code",
   "execution_count": null,
   "metadata": {},
   "outputs": [],
   "source": [
    "plot_map(bitmap)"
   ]
  },
  {
   "cell_type": "code",
   "execution_count": null,
   "metadata": {},
   "outputs": [],
   "source": [
    "for x in range(3):\n",
    "    turtle.move()\n",
    "turtle.left()\n",
    "turtle.move()\n",
    "turtle.move()\n",
    "for x in range(5):\n",
    "    turtle.move()\n",
    "    turtle.left()\n",
    "    turtle.move()\n",
    "    turtle.right()\n",
    "turtle.left(2)\n",
    "turtle.move()\n",
    "turtle.set_value(4)\n",
    "turtle.move()\n",
    "turtle.set_value(4)\n",
    "turtle.right()\n",
    "turtle.move()\n",
    "turtle.set_value(4)\n",
    "turtle.left()\n",
    "turtle.move()\n",
    "turtle.set_value(4)\n",
    "turtle.left()\n",
    "turtle.move()\n",
    "turtle.set_value(4)\n",
    "turtle.right()\n",
    "turtle.move()\n",
    "turtle.set_value(4)\n",
    "turtle.left()\n",
    "turtle.move()\n",
    "turtle.set_value(4)\n",
    "turtle.right()\n",
    "turtle.move()\n",
    "turtle.set_value(4)"
   ]
  },
  {
   "cell_type": "code",
   "execution_count": null,
   "metadata": {},
   "outputs": [],
   "source": [
    "plot_map(bitmap)"
   ]
  },
  {
   "cell_type": "code",
   "execution_count": null,
   "metadata": {},
   "outputs": [],
   "source": [
    "print(bitmap)"
   ]
  },
  {
   "cell_type": "markdown",
   "metadata": {},
   "source": [
    "### How do these hexagons map to a sphere\n",
    "The blue hexagons are mapped to the hexagons on a football.  The green hexagons are in fact pentagons, so the edge attached to a yellow hexagon does not exist in reality,  The purple hexagons are the same location on the sphere, but are also in fact the pentagons on the football.  They are equivalent to the green hexagons.  The aqua hexagons are the \"poles\" of the sphere and therefore equivalent and also pentagons.  The red hexagons are not accessible.  The yellow hexagons should be mapped to another hexagon in the map."
   ]
  },
  {
   "cell_type": "markdown",
   "metadata": {},
   "source": [
    "### Expanding the map\n",
    "It seems that we can build a map by drawing a perimeter, then filling in the middle"
   ]
  },
  {
   "cell_type": "markdown",
   "metadata": {},
   "source": [
    "##### Functions to draw the perimeter"
   ]
  },
  {
   "cell_type": "code",
   "execution_count": null,
   "metadata": {},
   "outputs": [],
   "source": [
    "def edgewise(turtle, value=5):\n",
    "    for s in range(STEPS):\n",
    "        turtle.right()\n",
    "        turtle.move()\n",
    "        turtle.set_value(1)\n",
    "        turtle.left()\n",
    "        turtle.move()\n",
    "        turtle.set_value(value)\n",
    "\n",
    "def pole(turtle):\n",
    "    turtle.set_value(2)\n",
    "    turtle.move()\n",
    "    turtle.set_value(6)\n",
    "    turtle.right(3)\n",
    "    turtle.move()\n",
    "    turtle.left()\n",
    "\n",
    "def hemisphere(turtle):\n",
    "    for s in range(SECTIONS):\n",
    "        edgewise(turtle)\n",
    "        pole(turtle)\n",
    "        edgewise(turtle)\n",
    "        turtle.set_value(3)\n",
    "        turtle.left(2)\n",
    "    turtle.set_value(7)\n",
    "    turtle.right(2)\n",
    "    edgewise(turtle, 7)\n",
    "    turtle.right()\n",
    "        \n",
    "def perimeter(turtle):\n",
    "    hemisphere(turtle)\n",
    "    hemisphere(turtle)"
   ]
  },
  {
   "cell_type": "markdown",
   "metadata": {},
   "source": [
    "##### Draw the perimeter with the turtle"
   ]
  },
  {
   "cell_type": "code",
   "execution_count": null,
   "metadata": {},
   "outputs": [],
   "source": [
    "SECTIONS = 5\n",
    "STEPS = 5\n",
    "bitmap = empty_map(STEPS * 12)\n",
    "turtle = Turtle(bitmap)\n",
    "turtle.place(2, (STEPS + 1) * 6)\n",
    "perimeter(turtle)"
   ]
  },
  {
   "cell_type": "code",
   "execution_count": null,
   "metadata": {},
   "outputs": [],
   "source": [
    "plot_map(bitmap)"
   ]
  },
  {
   "cell_type": "markdown",
   "metadata": {},
   "source": [
    "##### Fill the middle with blues"
   ]
  },
  {
   "cell_type": "code",
   "execution_count": null,
   "metadata": {},
   "outputs": [],
   "source": [
    "markers = (1, 3)\n",
    "for x in range(bitmap.shape[0]):\n",
    "    mark = False\n",
    "    for y in range(x % 2, bitmap.shape[1], 2):\n",
    "        if bitmap[x, y] in markers:\n",
    "            mark = not mark\n",
    "        else:\n",
    "            if mark:\n",
    "                bitmap[x, y] = 1"
   ]
  },
  {
   "cell_type": "code",
   "execution_count": null,
   "metadata": {},
   "outputs": [],
   "source": [
    "plot_map(bitmap)"
   ]
  },
  {
   "cell_type": "markdown",
   "metadata": {},
   "source": [
    "##### Add the virtual hexagons around the outside"
   ]
  },
  {
   "cell_type": "code",
   "execution_count": null,
   "metadata": {},
   "outputs": [],
   "source": [
    "markers = (1, 2, 3, 5, 7)\n",
    "neighbours = ([0, 2], [-1, 1], [1, 1], [0, -2], [-1, -1], [1, -1])\n",
    "for x in range(1, bitmap.shape[0] - 1):\n",
    "    for y in range(2 + x % 2, bitmap.shape[1] - 2, 2):\n",
    "        if bitmap[x, y] == 0:\n",
    "            for n in neighbours:\n",
    "                if bitmap[x + n[0], y + n[1]] in markers:\n",
    "                    bitmap[x, y] = 4"
   ]
  },
  {
   "cell_type": "code",
   "execution_count": null,
   "metadata": {},
   "outputs": [],
   "source": [
    "plot_map(bitmap)"
   ]
  }
 ],
 "metadata": {
  "kernelspec": {
   "display_name": "Python 3",
   "language": "python",
   "name": "python3"
  },
  "language_info": {
   "codemirror_mode": {
    "name": "ipython",
    "version": 3
   },
   "file_extension": ".py",
   "mimetype": "text/x-python",
   "name": "python",
   "nbconvert_exporter": "python",
   "pygments_lexer": "ipython3",
   "version": "3.8.3"
  }
 },
 "nbformat": 4,
 "nbformat_minor": 4
}
